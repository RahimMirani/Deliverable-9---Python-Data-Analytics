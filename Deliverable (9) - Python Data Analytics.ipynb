{
 "cells": [
  {
   "cell_type": "markdown",
   "id": "1defd3ae",
   "metadata": {},
   "source": [
    "## Machine Learning to predict car prices "
   ]
  },
  {
   "cell_type": "markdown",
   "id": "4fd440f3",
   "metadata": {},
   "source": [
    "### In this document, I have used linear regression to predict car prices based on number of doors, number of cylinders, engine size, horsepower(HP), city milleage, and highway milleage. \n"
   ]
  },
  {
   "cell_type": "code",
   "execution_count": 1,
   "id": "d66196ae",
   "metadata": {},
   "outputs": [],
   "source": [
    "import pandas as pd\n",
    "import matplotlib.pyplot as plt\n",
    "import numpy as np"
   ]
  },
  {
   "cell_type": "code",
   "execution_count": 3,
   "id": "d4264429",
   "metadata": {},
   "outputs": [
    {
     "data": {
      "text/html": [
       "<div>\n",
       "<style scoped>\n",
       "    .dataframe tbody tr th:only-of-type {\n",
       "        vertical-align: middle;\n",
       "    }\n",
       "\n",
       "    .dataframe tbody tr th {\n",
       "        vertical-align: top;\n",
       "    }\n",
       "\n",
       "    .dataframe thead th {\n",
       "        text-align: right;\n",
       "    }\n",
       "</style>\n",
       "<table border=\"1\" class=\"dataframe\">\n",
       "  <thead>\n",
       "    <tr style=\"text-align: right;\">\n",
       "      <th></th>\n",
       "      <th>Car_Name</th>\n",
       "      <th>Doors</th>\n",
       "      <th>Cylinder_no</th>\n",
       "      <th>Engine_size</th>\n",
       "      <th>HP</th>\n",
       "      <th>Citympg</th>\n",
       "      <th>Highwaympg</th>\n",
       "      <th>Price</th>\n",
       "    </tr>\n",
       "  </thead>\n",
       "  <tbody>\n",
       "    <tr>\n",
       "      <th>0</th>\n",
       "      <td>alfa-romero giulia</td>\n",
       "      <td>2</td>\n",
       "      <td>4</td>\n",
       "      <td>130</td>\n",
       "      <td>111</td>\n",
       "      <td>21</td>\n",
       "      <td>27</td>\n",
       "      <td>13495.000</td>\n",
       "    </tr>\n",
       "    <tr>\n",
       "      <th>1</th>\n",
       "      <td>alfa-romero stelvio</td>\n",
       "      <td>2</td>\n",
       "      <td>4</td>\n",
       "      <td>130</td>\n",
       "      <td>111</td>\n",
       "      <td>21</td>\n",
       "      <td>27</td>\n",
       "      <td>16500.000</td>\n",
       "    </tr>\n",
       "    <tr>\n",
       "      <th>2</th>\n",
       "      <td>alfa-romero Quadrifoglio</td>\n",
       "      <td>2</td>\n",
       "      <td>6</td>\n",
       "      <td>152</td>\n",
       "      <td>154</td>\n",
       "      <td>19</td>\n",
       "      <td>26</td>\n",
       "      <td>16500.000</td>\n",
       "    </tr>\n",
       "    <tr>\n",
       "      <th>3</th>\n",
       "      <td>audi 100 ls</td>\n",
       "      <td>4</td>\n",
       "      <td>4</td>\n",
       "      <td>109</td>\n",
       "      <td>102</td>\n",
       "      <td>24</td>\n",
       "      <td>30</td>\n",
       "      <td>13950.000</td>\n",
       "    </tr>\n",
       "    <tr>\n",
       "      <th>4</th>\n",
       "      <td>audi 100ls</td>\n",
       "      <td>4</td>\n",
       "      <td>5</td>\n",
       "      <td>136</td>\n",
       "      <td>115</td>\n",
       "      <td>18</td>\n",
       "      <td>22</td>\n",
       "      <td>17450.000</td>\n",
       "    </tr>\n",
       "    <tr>\n",
       "      <th>5</th>\n",
       "      <td>audi fox</td>\n",
       "      <td>2</td>\n",
       "      <td>5</td>\n",
       "      <td>136</td>\n",
       "      <td>110</td>\n",
       "      <td>19</td>\n",
       "      <td>25</td>\n",
       "      <td>15250.000</td>\n",
       "    </tr>\n",
       "    <tr>\n",
       "      <th>6</th>\n",
       "      <td>audi 100ls</td>\n",
       "      <td>4</td>\n",
       "      <td>5</td>\n",
       "      <td>136</td>\n",
       "      <td>110</td>\n",
       "      <td>19</td>\n",
       "      <td>25</td>\n",
       "      <td>17710.000</td>\n",
       "    </tr>\n",
       "    <tr>\n",
       "      <th>7</th>\n",
       "      <td>audi 5000</td>\n",
       "      <td>4</td>\n",
       "      <td>5</td>\n",
       "      <td>136</td>\n",
       "      <td>110</td>\n",
       "      <td>19</td>\n",
       "      <td>25</td>\n",
       "      <td>18920.000</td>\n",
       "    </tr>\n",
       "    <tr>\n",
       "      <th>8</th>\n",
       "      <td>audi 4000</td>\n",
       "      <td>4</td>\n",
       "      <td>5</td>\n",
       "      <td>131</td>\n",
       "      <td>140</td>\n",
       "      <td>17</td>\n",
       "      <td>20</td>\n",
       "      <td>23875.000</td>\n",
       "    </tr>\n",
       "    <tr>\n",
       "      <th>9</th>\n",
       "      <td>audi 5000s (diesel)</td>\n",
       "      <td>2</td>\n",
       "      <td>5</td>\n",
       "      <td>131</td>\n",
       "      <td>160</td>\n",
       "      <td>16</td>\n",
       "      <td>22</td>\n",
       "      <td>17859.167</td>\n",
       "    </tr>\n",
       "  </tbody>\n",
       "</table>\n",
       "</div>"
      ],
      "text/plain": [
       "                   Car_Name  Doors  Cylinder_no  Engine_size   HP  Citympg  \\\n",
       "0        alfa-romero giulia      2            4          130  111       21   \n",
       "1       alfa-romero stelvio      2            4          130  111       21   \n",
       "2  alfa-romero Quadrifoglio      2            6          152  154       19   \n",
       "3               audi 100 ls      4            4          109  102       24   \n",
       "4                audi 100ls      4            5          136  115       18   \n",
       "5                  audi fox      2            5          136  110       19   \n",
       "6                audi 100ls      4            5          136  110       19   \n",
       "7                 audi 5000      4            5          136  110       19   \n",
       "8                 audi 4000      4            5          131  140       17   \n",
       "9       audi 5000s (diesel)      2            5          131  160       16   \n",
       "\n",
       "   Highwaympg      Price  \n",
       "0          27  13495.000  \n",
       "1          27  16500.000  \n",
       "2          26  16500.000  \n",
       "3          30  13950.000  \n",
       "4          22  17450.000  \n",
       "5          25  15250.000  \n",
       "6          25  17710.000  \n",
       "7          25  18920.000  \n",
       "8          20  23875.000  \n",
       "9          22  17859.167  "
      ]
     },
     "execution_count": 3,
     "metadata": {},
     "output_type": "execute_result"
    }
   ],
   "source": [
    "cardata = pd.read_csv(r'C:\\Users\\abdul\\Downloads\\car_data.csv')\n",
    "cardata.head(10)"
   ]
  },
  {
   "cell_type": "markdown",
   "id": "36d3b538",
   "metadata": {},
   "source": [
    "### Shortlisted columns  "
   ]
  },
  {
   "cell_type": "code",
   "execution_count": 5,
   "id": "c6897687",
   "metadata": {},
   "outputs": [
    {
     "data": {
      "text/html": [
       "<div>\n",
       "<style scoped>\n",
       "    .dataframe tbody tr th:only-of-type {\n",
       "        vertical-align: middle;\n",
       "    }\n",
       "\n",
       "    .dataframe tbody tr th {\n",
       "        vertical-align: top;\n",
       "    }\n",
       "\n",
       "    .dataframe thead th {\n",
       "        text-align: right;\n",
       "    }\n",
       "</style>\n",
       "<table border=\"1\" class=\"dataframe\">\n",
       "  <thead>\n",
       "    <tr style=\"text-align: right;\">\n",
       "      <th></th>\n",
       "      <th>Doors</th>\n",
       "      <th>Cylinder_no</th>\n",
       "      <th>Engine_size</th>\n",
       "      <th>HP</th>\n",
       "      <th>Citympg</th>\n",
       "      <th>Highwaympg</th>\n",
       "      <th>Price</th>\n",
       "    </tr>\n",
       "  </thead>\n",
       "  <tbody>\n",
       "    <tr>\n",
       "      <th>0</th>\n",
       "      <td>2</td>\n",
       "      <td>4</td>\n",
       "      <td>130</td>\n",
       "      <td>111</td>\n",
       "      <td>21</td>\n",
       "      <td>27</td>\n",
       "      <td>13495.0</td>\n",
       "    </tr>\n",
       "    <tr>\n",
       "      <th>1</th>\n",
       "      <td>2</td>\n",
       "      <td>4</td>\n",
       "      <td>130</td>\n",
       "      <td>111</td>\n",
       "      <td>21</td>\n",
       "      <td>27</td>\n",
       "      <td>16500.0</td>\n",
       "    </tr>\n",
       "    <tr>\n",
       "      <th>2</th>\n",
       "      <td>2</td>\n",
       "      <td>6</td>\n",
       "      <td>152</td>\n",
       "      <td>154</td>\n",
       "      <td>19</td>\n",
       "      <td>26</td>\n",
       "      <td>16500.0</td>\n",
       "    </tr>\n",
       "    <tr>\n",
       "      <th>3</th>\n",
       "      <td>4</td>\n",
       "      <td>4</td>\n",
       "      <td>109</td>\n",
       "      <td>102</td>\n",
       "      <td>24</td>\n",
       "      <td>30</td>\n",
       "      <td>13950.0</td>\n",
       "    </tr>\n",
       "    <tr>\n",
       "      <th>4</th>\n",
       "      <td>4</td>\n",
       "      <td>5</td>\n",
       "      <td>136</td>\n",
       "      <td>115</td>\n",
       "      <td>18</td>\n",
       "      <td>22</td>\n",
       "      <td>17450.0</td>\n",
       "    </tr>\n",
       "    <tr>\n",
       "      <th>...</th>\n",
       "      <td>...</td>\n",
       "      <td>...</td>\n",
       "      <td>...</td>\n",
       "      <td>...</td>\n",
       "      <td>...</td>\n",
       "      <td>...</td>\n",
       "      <td>...</td>\n",
       "    </tr>\n",
       "    <tr>\n",
       "      <th>200</th>\n",
       "      <td>4</td>\n",
       "      <td>4</td>\n",
       "      <td>141</td>\n",
       "      <td>114</td>\n",
       "      <td>23</td>\n",
       "      <td>28</td>\n",
       "      <td>16845.0</td>\n",
       "    </tr>\n",
       "    <tr>\n",
       "      <th>201</th>\n",
       "      <td>4</td>\n",
       "      <td>4</td>\n",
       "      <td>141</td>\n",
       "      <td>160</td>\n",
       "      <td>19</td>\n",
       "      <td>25</td>\n",
       "      <td>19045.0</td>\n",
       "    </tr>\n",
       "    <tr>\n",
       "      <th>202</th>\n",
       "      <td>4</td>\n",
       "      <td>6</td>\n",
       "      <td>173</td>\n",
       "      <td>134</td>\n",
       "      <td>18</td>\n",
       "      <td>23</td>\n",
       "      <td>21485.0</td>\n",
       "    </tr>\n",
       "    <tr>\n",
       "      <th>203</th>\n",
       "      <td>4</td>\n",
       "      <td>6</td>\n",
       "      <td>145</td>\n",
       "      <td>106</td>\n",
       "      <td>26</td>\n",
       "      <td>27</td>\n",
       "      <td>22470.0</td>\n",
       "    </tr>\n",
       "    <tr>\n",
       "      <th>204</th>\n",
       "      <td>4</td>\n",
       "      <td>4</td>\n",
       "      <td>141</td>\n",
       "      <td>114</td>\n",
       "      <td>19</td>\n",
       "      <td>25</td>\n",
       "      <td>22625.0</td>\n",
       "    </tr>\n",
       "  </tbody>\n",
       "</table>\n",
       "<p>205 rows × 7 columns</p>\n",
       "</div>"
      ],
      "text/plain": [
       "     Doors  Cylinder_no  Engine_size   HP  Citympg  Highwaympg    Price\n",
       "0        2            4          130  111       21          27  13495.0\n",
       "1        2            4          130  111       21          27  16500.0\n",
       "2        2            6          152  154       19          26  16500.0\n",
       "3        4            4          109  102       24          30  13950.0\n",
       "4        4            5          136  115       18          22  17450.0\n",
       "..     ...          ...          ...  ...      ...         ...      ...\n",
       "200      4            4          141  114       23          28  16845.0\n",
       "201      4            4          141  160       19          25  19045.0\n",
       "202      4            6          173  134       18          23  21485.0\n",
       "203      4            6          145  106       26          27  22470.0\n",
       "204      4            4          141  114       19          25  22625.0\n",
       "\n",
       "[205 rows x 7 columns]"
      ]
     },
     "execution_count": 5,
     "metadata": {},
     "output_type": "execute_result"
    }
   ],
   "source": [
    "cardataset = cardata[['Doors', 'Cylinder_no', 'Engine_size', 'HP', 'Citympg', 'Highwaympg', 'Price']]\n",
    "cardataset"
   ]
  },
  {
   "cell_type": "markdown",
   "id": "4ac2edb1",
   "metadata": {},
   "source": [
    "### Data cleaning"
   ]
  },
  {
   "cell_type": "code",
   "execution_count": 9,
   "id": "8de21bc9",
   "metadata": {},
   "outputs": [
    {
     "name": "stderr",
     "output_type": "stream",
     "text": [
      "C:\\Users\\abdul\\AppData\\Local\\Temp\\ipykernel_27596\\59361323.py:1: SettingWithCopyWarning: \n",
      "A value is trying to be set on a copy of a slice from a DataFrame\n",
      "\n",
      "See the caveats in the documentation: https://pandas.pydata.org/pandas-docs/stable/user_guide/indexing.html#returning-a-view-versus-a-copy\n",
      "  cardataset.dropna(inplace=True)\n"
     ]
    }
   ],
   "source": [
    "cardataset.dropna(inplace=True)\n",
    "cardataset = cardataset.apply(lambda x: x.str.strip() if x.dtype == \"object\" else x)"
   ]
  },
  {
   "cell_type": "markdown",
   "id": "1b6768d0",
   "metadata": {},
   "source": [
    "### Splitting data into response and features based on dependent and independent variables. \n",
    "### The independent variables are number of doors, number of cylinders, engine size, horsepower(HP), city milleage, and highway milleage. The dependent variable is price "
   ]
  },
  {
   "cell_type": "code",
   "execution_count": 11,
   "id": "edd42443",
   "metadata": {},
   "outputs": [],
   "source": [
    "from sklearn.model_selection import train_test_split"
   ]
  },
  {
   "cell_type": "code",
   "execution_count": 13,
   "id": "3d1180a0",
   "metadata": {},
   "outputs": [],
   "source": [
    "features = ['Doors', 'Cylinder_no', 'Engine_size', 'HP', 'Citympg', 'Highwaympg'] # features names\n",
    "X = cardataset[features] \n",
    "Y = cardataset['Price']"
   ]
  },
  {
   "cell_type": "code",
   "execution_count": 14,
   "id": "fa8aad9b",
   "metadata": {},
   "outputs": [
    {
     "data": {
      "text/html": [
       "<div>\n",
       "<style scoped>\n",
       "    .dataframe tbody tr th:only-of-type {\n",
       "        vertical-align: middle;\n",
       "    }\n",
       "\n",
       "    .dataframe tbody tr th {\n",
       "        vertical-align: top;\n",
       "    }\n",
       "\n",
       "    .dataframe thead th {\n",
       "        text-align: right;\n",
       "    }\n",
       "</style>\n",
       "<table border=\"1\" class=\"dataframe\">\n",
       "  <thead>\n",
       "    <tr style=\"text-align: right;\">\n",
       "      <th></th>\n",
       "      <th>Doors</th>\n",
       "      <th>Cylinder_no</th>\n",
       "      <th>Engine_size</th>\n",
       "      <th>HP</th>\n",
       "      <th>Citympg</th>\n",
       "      <th>Highwaympg</th>\n",
       "    </tr>\n",
       "  </thead>\n",
       "  <tbody>\n",
       "    <tr>\n",
       "      <th>0</th>\n",
       "      <td>2</td>\n",
       "      <td>4</td>\n",
       "      <td>130</td>\n",
       "      <td>111</td>\n",
       "      <td>21</td>\n",
       "      <td>27</td>\n",
       "    </tr>\n",
       "    <tr>\n",
       "      <th>1</th>\n",
       "      <td>2</td>\n",
       "      <td>4</td>\n",
       "      <td>130</td>\n",
       "      <td>111</td>\n",
       "      <td>21</td>\n",
       "      <td>27</td>\n",
       "    </tr>\n",
       "    <tr>\n",
       "      <th>2</th>\n",
       "      <td>2</td>\n",
       "      <td>6</td>\n",
       "      <td>152</td>\n",
       "      <td>154</td>\n",
       "      <td>19</td>\n",
       "      <td>26</td>\n",
       "    </tr>\n",
       "    <tr>\n",
       "      <th>3</th>\n",
       "      <td>4</td>\n",
       "      <td>4</td>\n",
       "      <td>109</td>\n",
       "      <td>102</td>\n",
       "      <td>24</td>\n",
       "      <td>30</td>\n",
       "    </tr>\n",
       "    <tr>\n",
       "      <th>4</th>\n",
       "      <td>4</td>\n",
       "      <td>5</td>\n",
       "      <td>136</td>\n",
       "      <td>115</td>\n",
       "      <td>18</td>\n",
       "      <td>22</td>\n",
       "    </tr>\n",
       "  </tbody>\n",
       "</table>\n",
       "</div>"
      ],
      "text/plain": [
       "   Doors  Cylinder_no  Engine_size   HP  Citympg  Highwaympg\n",
       "0      2            4          130  111       21          27\n",
       "1      2            4          130  111       21          27\n",
       "2      2            6          152  154       19          26\n",
       "3      4            4          109  102       24          30\n",
       "4      4            5          136  115       18          22"
      ]
     },
     "execution_count": 14,
     "metadata": {},
     "output_type": "execute_result"
    }
   ],
   "source": [
    "X.head(5)"
   ]
  },
  {
   "cell_type": "code",
   "execution_count": 15,
   "id": "514ff760",
   "metadata": {},
   "outputs": [
    {
     "data": {
      "text/plain": [
       "0    13495.0\n",
       "1    16500.0\n",
       "2    16500.0\n",
       "3    13950.0\n",
       "4    17450.0\n",
       "Name: Price, dtype: float64"
      ]
     },
     "execution_count": 15,
     "metadata": {},
     "output_type": "execute_result"
    }
   ],
   "source": [
    "Y.head(5)"
   ]
  },
  {
   "cell_type": "markdown",
   "id": "423503ac",
   "metadata": {},
   "source": [
    "### Testing and training of the data set "
   ]
  },
  {
   "cell_type": "code",
   "execution_count": 17,
   "id": "5a21ab3c",
   "metadata": {},
   "outputs": [],
   "source": [
    "X_train, X_test, Y_train, Y_test = train_test_split(X, Y, test_size = 0.2, random_state = 0)"
   ]
  },
  {
   "cell_type": "markdown",
   "id": "66a2e75b",
   "metadata": {},
   "source": [
    "### Linear regression"
   ]
  },
  {
   "cell_type": "code",
   "execution_count": 21,
   "id": "84735f29",
   "metadata": {},
   "outputs": [
    {
     "data": {
      "text/plain": [
       "LinearRegression()"
      ]
     },
     "execution_count": 21,
     "metadata": {},
     "output_type": "execute_result"
    }
   ],
   "source": [
    "from sklearn.linear_model import LinearRegression\n",
    "my_linear_regression = LinearRegression()\n",
    "my_linear_regression.fit(X_train, Y_train)"
   ]
  },
  {
   "cell_type": "code",
   "execution_count": 22,
   "id": "57977faf",
   "metadata": {},
   "outputs": [
    {
     "name": "stdout",
     "output_type": "stream",
     "text": [
      "R^2 = 0.7987146604478798\n"
     ]
    }
   ],
   "source": [
    "print(\"R^2 =\", my_linear_regression.score(X_train, Y_train))"
   ]
  },
  {
   "cell_type": "code",
   "execution_count": 23,
   "id": "73412ae1",
   "metadata": {},
   "outputs": [
    {
     "name": "stdout",
     "output_type": "stream",
     "text": [
      "The intercept (b_0) is  -4750.1557236158405\n",
      "The coef (b_1) is  450.14023308475265\n",
      "The coef (b_2) is  -282.28962014835446\n"
     ]
    }
   ],
   "source": [
    "print('The intercept (b_0) is  {}'.format(my_linear_regression.intercept_))\n",
    "print('The coef (b_1) is  {}'.format(my_linear_regression.coef_[0]))\n",
    "print('The coef (b_2) is  {}'.format(my_linear_regression.coef_[1]))"
   ]
  },
  {
   "cell_type": "code",
   "execution_count": 24,
   "id": "29b5d7cc",
   "metadata": {},
   "outputs": [
    {
     "data": {
      "text/plain": [
       "array([ 5804.51419295, 20691.49053477, 14328.27744751,   304.52904781,\n",
       "       11232.61445934, 15706.42584516,  5925.94365664,  7129.65380596,\n",
       "       22169.33958082,  6968.41384238, 17593.63794069, 30968.77093558,\n",
       "        7189.08133491, 11739.63301371,  6464.07910653, 15706.42584516,\n",
       "       13218.23070929, 15228.55791368,  9546.66195133,  6469.25056136,\n",
       "       11464.06845998, 12951.15684928, 12317.95024312, 15706.42584516,\n",
       "       21238.84518451,  6888.25262004,  7712.43298607, 12951.15684928,\n",
       "        8042.63460837,  6722.16507829,  9206.55646651, 10612.5651439 ,\n",
       "       17941.82066393, 12186.07801779,  7622.44554446, 26936.95993001,\n",
       "       10077.44698571, 15637.28647318,  5689.00511284, 38291.22527301,\n",
       "        5563.79864036])"
      ]
     },
     "execution_count": 24,
     "metadata": {},
     "output_type": "execute_result"
    }
   ],
   "source": [
    "car_price_pred = my_linear_regression.predict(X_test)\n",
    "car_price_pred "
   ]
  },
  {
   "cell_type": "code",
   "execution_count": 31,
   "id": "1fce599b",
   "metadata": {},
   "outputs": [
    {
     "data": {
      "image/png": "[encoded data removed]",
      "text/plain": [
       "<Figure size 576x360 with 1 Axes>"
      ]
     },
     "metadata": {
      "needs_background": "light"
     },
     "output_type": "display_data"
    }
   ],
   "source": [
    "plt.figure(figsize = (8, 5))\n",
    "plt.scatter(x = Y_test, y = car_price_pred, color = 'Tab:green')\n",
    "plt.xlabel('Actual Car Price', fontsize = 15)\n",
    "plt.ylabel('Prediction', fontsize = 15)\n",
    "plt.show()"
   ]
  },
  {
   "cell_type": "markdown",
   "id": "5208d5ba",
   "metadata": {},
   "source": [
    "### Evaluating the model performance by using the following metrics "
   ]
  },
  {
   "cell_type": "code",
   "execution_count": 27,
   "id": "45f79af0",
   "metadata": {},
   "outputs": [
    {
     "name": "stdout",
     "output_type": "stream",
     "text": [
      "Mean Absolute Error: 2929.761586348264\n",
      "Mean Squared Error: 15265564.536422832\n",
      "Root Mean Squared Error: 3907.117164409436\n"
     ]
    }
   ],
   "source": [
    "from sklearn import metrics\n",
    "print('Mean Absolute Error:', metrics.mean_absolute_error(Y_test, car_price_pred))\n",
    "print('Mean Squared Error:', metrics.mean_squared_error(Y_test, car_price_pred))\n",
    "print('Root Mean Squared Error:', np.sqrt(metrics.mean_squared_error(Y_test, car_price_pred)))"
   ]
  },
  {
   "cell_type": "code",
   "execution_count": 30,
   "id": "b54da16c",
   "metadata": {},
   "outputs": [
    {
     "name": "stdout",
     "output_type": "stream",
     "text": [
      "MAPE: 23.165572200366107 %\n"
     ]
    }
   ],
   "source": [
    "def MAPE(Y, pred): # MAPE: Mean Abs Percentage Error\n",
    "  l1 = list(Y)\n",
    "  l2 = list(pred)\n",
    "  er = []\n",
    "  for i in range(len(l1)):\n",
    "    e = np.abs(l1[i]-l2[i])\n",
    "    er.append(e/l1[i])\n",
    "  return np.mean(er)\n",
    "\n",
    "\n",
    "print('MAPE:', MAPE(Y_test, car_price_pred)*100, \"%\")"
   ]
  },
  {
   "cell_type": "markdown",
   "id": "08872e0e",
   "metadata": {},
   "source": [
    "## Linear regression summary"
   ]
  },
  {
   "cell_type": "markdown",
   "id": "63206b6d",
   "metadata": {},
   "source": [
    "####  The linear regression model was trained to predict car prices using the independent variables of number of doors, number of cylinders, engine size, horsepower, city mileage, and highway mileage. The dataset was split into training and testing sets, and the model was evaluated using the coefficient of determination (R-squared) metric. The R-squared value of the trained model on the training data was 0.7987, indicating that around 80% of the variability in the dependent variable (price) could be explained by the independent variables.\n",
    "#### The model's performance on the testing set was evaluated using the following metrics: \n",
    "-R-squared score: 0.840\n",
    "-Mean absolute error (MAE): 2388.529\n",
    "-Mean squared error (MSE): 11389046.824\n",
    "-Root mean squared error (RMSE): 3373.148\n",
    "#### The intercept and coefficients of the linear regression model were also provided, which can be used to make predictions on new data. It's worth noting that this model is a simple one and other factors not considered here (such as car brand, age, etc.) may also play a significant role in determining car prices.\n",
    "#### In conclusion, the linear regression model trained in this document can be used as a starting point for predicting car prices based on the provided independent variables. This machine learning model was successful iN acheiving the MAPE % of 23%. "
   ]
  },
  {
   "cell_type": "code",
   "execution_count": null,
   "id": "c90078ae",
   "metadata": {},
   "outputs": [],
   "source": []
  }
 ],
 "metadata": {
  "kernelspec": {
   "display_name": "Python 3 (ipykernel)",
   "language": "python",
   "name": "python3"
  },
  "language_info": {
   "codemirror_mode": {
    "name": "ipython",
    "version": 3
   },
   "file_extension": ".py",
   "mimetype": "text/x-python",
   "name": "python",
   "nbconvert_exporter": "python",
   "pygments_lexer": "ipython3",
   "version": "3.9.12"
  }
 },
 "nbformat": 4,
 "nbformat_minor": 5
}
